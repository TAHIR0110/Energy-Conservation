{
 "cells": [
  {
   "cell_type": "code",
   "execution_count": 1,
   "id": "65905cc0",
   "metadata": {},
   "outputs": [
    {
     "data": {
      "text/plain": [
       "'/Users/tahirabbas'"
      ]
     },
     "execution_count": 1,
     "metadata": {},
     "output_type": "execute_result"
    }
   ],
   "source": [
    "import numpy as np\n",
    "import pandas as pd\n",
    "import os\n",
    "os.getcwd()"
   ]
  },
  {
   "cell_type": "code",
   "execution_count": 2,
   "id": "ea887870",
   "metadata": {},
   "outputs": [],
   "source": [
    "os.chdir('/Users/tahirabbas/Desktop/hi')"
   ]
  },
  {
   "cell_type": "code",
   "execution_count": 3,
   "id": "83bf7979",
   "metadata": {},
   "outputs": [
    {
     "data": {
      "text/html": [
       "<div>\n",
       "<style scoped>\n",
       "    .dataframe tbody tr th:only-of-type {\n",
       "        vertical-align: middle;\n",
       "    }\n",
       "\n",
       "    .dataframe tbody tr th {\n",
       "        vertical-align: top;\n",
       "    }\n",
       "\n",
       "    .dataframe thead th {\n",
       "        text-align: right;\n",
       "    }\n",
       "</style>\n",
       "<table border=\"1\" class=\"dataframe\">\n",
       "  <thead>\n",
       "    <tr style=\"text-align: right;\">\n",
       "      <th></th>\n",
       "      <th>co2 emission</th>\n",
       "      <th>Unnamed: 1</th>\n",
       "      <th>solar energy</th>\n",
       "      <th>Unnamed: 3</th>\n",
       "      <th>wind speed</th>\n",
       "      <th>Unnamed: 5</th>\n",
       "      <th>hydroelectric potential</th>\n",
       "      <th>Unnamed: 7</th>\n",
       "      <th>Unnamed: 8</th>\n",
       "      <th>geothermal activity</th>\n",
       "      <th>Unnamed: 10</th>\n",
       "      <th>biomass availibility</th>\n",
       "      <th>Unnamed: 12</th>\n",
       "      <th>suitable enrgy</th>\n",
       "      <th>Suitable Energy</th>\n",
       "      <th>suitable energy</th>\n",
       "    </tr>\n",
       "  </thead>\n",
       "  <tbody>\n",
       "    <tr>\n",
       "      <th>0</th>\n",
       "      <td>14656</td>\n",
       "      <td>NaN</td>\n",
       "      <td>2</td>\n",
       "      <td>NaN</td>\n",
       "      <td>1</td>\n",
       "      <td>NaN</td>\n",
       "      <td>0</td>\n",
       "      <td>NaN</td>\n",
       "      <td>NaN</td>\n",
       "      <td>0</td>\n",
       "      <td>NaN</td>\n",
       "      <td>1</td>\n",
       "      <td>NaN</td>\n",
       "      <td>Solar</td>\n",
       "      <td>Solar</td>\n",
       "      <td>Solar</td>\n",
       "    </tr>\n",
       "    <tr>\n",
       "      <th>1</th>\n",
       "      <td>40000</td>\n",
       "      <td>NaN</td>\n",
       "      <td>1</td>\n",
       "      <td>NaN</td>\n",
       "      <td>2</td>\n",
       "      <td>NaN</td>\n",
       "      <td>1</td>\n",
       "      <td>NaN</td>\n",
       "      <td>NaN</td>\n",
       "      <td>1</td>\n",
       "      <td>NaN</td>\n",
       "      <td>2</td>\n",
       "      <td>NaN</td>\n",
       "      <td>Biomass</td>\n",
       "      <td>NaN</td>\n",
       "      <td>NaN</td>\n",
       "    </tr>\n",
       "    <tr>\n",
       "      <th>2</th>\n",
       "      <td>98928</td>\n",
       "      <td>NaN</td>\n",
       "      <td>2</td>\n",
       "      <td>NaN</td>\n",
       "      <td>0</td>\n",
       "      <td>NaN</td>\n",
       "      <td>0</td>\n",
       "      <td>NaN</td>\n",
       "      <td>NaN</td>\n",
       "      <td>1</td>\n",
       "      <td>NaN</td>\n",
       "      <td>0</td>\n",
       "      <td>NaN</td>\n",
       "      <td>Solar</td>\n",
       "      <td>NaN</td>\n",
       "      <td>NaN</td>\n",
       "    </tr>\n",
       "    <tr>\n",
       "      <th>3</th>\n",
       "      <td>190528</td>\n",
       "      <td>NaN</td>\n",
       "      <td>0</td>\n",
       "      <td>NaN</td>\n",
       "      <td>1</td>\n",
       "      <td>NaN</td>\n",
       "      <td>1</td>\n",
       "      <td>NaN</td>\n",
       "      <td>NaN</td>\n",
       "      <td>0</td>\n",
       "      <td>NaN</td>\n",
       "      <td>1</td>\n",
       "      <td>NaN</td>\n",
       "      <td>biomass</td>\n",
       "      <td>NaN</td>\n",
       "      <td>NaN</td>\n",
       "    </tr>\n",
       "    <tr>\n",
       "      <th>4</th>\n",
       "      <td>282128</td>\n",
       "      <td>NaN</td>\n",
       "      <td>1</td>\n",
       "      <td>NaN</td>\n",
       "      <td>2</td>\n",
       "      <td>NaN</td>\n",
       "      <td>2</td>\n",
       "      <td>NaN</td>\n",
       "      <td>NaN</td>\n",
       "      <td>1</td>\n",
       "      <td>NaN</td>\n",
       "      <td>0</td>\n",
       "      <td>NaN</td>\n",
       "      <td>Hydroelectri</td>\n",
       "      <td>NaN</td>\n",
       "      <td>NaN</td>\n",
       "    </tr>\n",
       "    <tr>\n",
       "      <th>5</th>\n",
       "      <td>388384</td>\n",
       "      <td>NaN</td>\n",
       "      <td>0</td>\n",
       "      <td>NaN</td>\n",
       "      <td>1</td>\n",
       "      <td>NaN</td>\n",
       "      <td>1</td>\n",
       "      <td>NaN</td>\n",
       "      <td>NaN</td>\n",
       "      <td>2</td>\n",
       "      <td>NaN</td>\n",
       "      <td>2</td>\n",
       "      <td>NaN</td>\n",
       "      <td>Geothermal</td>\n",
       "      <td>NaN</td>\n",
       "      <td>NaN</td>\n",
       "    </tr>\n",
       "  </tbody>\n",
       "</table>\n",
       "</div>"
      ],
      "text/plain": [
       "   co2 emission  Unnamed: 1  solar energy  Unnamed: 3  wind speed  Unnamed: 5  \\\n",
       "0         14656         NaN             2         NaN           1         NaN   \n",
       "1         40000         NaN             1         NaN           2         NaN   \n",
       "2         98928         NaN             2         NaN           0         NaN   \n",
       "3        190528         NaN             0         NaN           1         NaN   \n",
       "4        282128         NaN             1         NaN           2         NaN   \n",
       "5        388384         NaN             0         NaN           1         NaN   \n",
       "\n",
       "   hydroelectric potential  Unnamed: 7  Unnamed: 8  geothermal activity   \\\n",
       "0                        0         NaN         NaN                     0   \n",
       "1                        1         NaN         NaN                     1   \n",
       "2                        0         NaN         NaN                     1   \n",
       "3                        1         NaN         NaN                     0   \n",
       "4                        2         NaN         NaN                     1   \n",
       "5                        1         NaN         NaN                     2   \n",
       "\n",
       "   Unnamed: 10  biomass availibility  Unnamed: 12 suitable enrgy  \\\n",
       "0          NaN                     1          NaN          Solar   \n",
       "1          NaN                     2          NaN        Biomass   \n",
       "2          NaN                     0          NaN          Solar   \n",
       "3          NaN                     1          NaN        biomass   \n",
       "4          NaN                     0          NaN   Hydroelectri   \n",
       "5          NaN                     2          NaN     Geothermal   \n",
       "\n",
       "  Suitable Energy suitable energy  \n",
       "0           Solar           Solar  \n",
       "1             NaN             NaN  \n",
       "2             NaN             NaN  \n",
       "3             NaN             NaN  \n",
       "4             NaN             NaN  \n",
       "5             NaN             NaN  "
      ]
     },
     "execution_count": 3,
     "metadata": {},
     "output_type": "execute_result"
    }
   ],
   "source": [
    "import pandas as pd\n",
    "from sklearn.tree import DecisionTreeClassifier\n",
    "\n",
    "data = pd.read_csv('hoho.csv')  \n",
    "df=data\n",
    "data.head(6)"
   ]
  },
  {
   "cell_type": "code",
   "execution_count": 4,
   "id": "726f0392",
   "metadata": {},
   "outputs": [
    {
     "data": {
      "text/html": [
       "<div>\n",
       "<style scoped>\n",
       "    .dataframe tbody tr th:only-of-type {\n",
       "        vertical-align: middle;\n",
       "    }\n",
       "\n",
       "    .dataframe tbody tr th {\n",
       "        vertical-align: top;\n",
       "    }\n",
       "\n",
       "    .dataframe thead th {\n",
       "        text-align: right;\n",
       "    }\n",
       "</style>\n",
       "<table border=\"1\" class=\"dataframe\">\n",
       "  <thead>\n",
       "    <tr style=\"text-align: right;\">\n",
       "      <th></th>\n",
       "      <th>co2 emission</th>\n",
       "      <th>Unnamed: 1</th>\n",
       "      <th>solar energy</th>\n",
       "      <th>Unnamed: 3</th>\n",
       "      <th>wind speed</th>\n",
       "      <th>Unnamed: 5</th>\n",
       "      <th>hydroelectric potential</th>\n",
       "      <th>Unnamed: 7</th>\n",
       "      <th>Unnamed: 8</th>\n",
       "      <th>geothermal activity</th>\n",
       "      <th>Unnamed: 10</th>\n",
       "      <th>biomass availibility</th>\n",
       "      <th>Unnamed: 12</th>\n",
       "      <th>suitable enrgy</th>\n",
       "      <th>Suitable Energy</th>\n",
       "      <th>suitable energy</th>\n",
       "    </tr>\n",
       "  </thead>\n",
       "  <tbody>\n",
       "    <tr>\n",
       "      <th>0</th>\n",
       "      <td>14656</td>\n",
       "      <td>NaN</td>\n",
       "      <td>2</td>\n",
       "      <td>NaN</td>\n",
       "      <td>1</td>\n",
       "      <td>NaN</td>\n",
       "      <td>0</td>\n",
       "      <td>NaN</td>\n",
       "      <td>NaN</td>\n",
       "      <td>0</td>\n",
       "      <td>NaN</td>\n",
       "      <td>1</td>\n",
       "      <td>NaN</td>\n",
       "      <td>Solar</td>\n",
       "      <td>Solar</td>\n",
       "      <td>Solar</td>\n",
       "    </tr>\n",
       "    <tr>\n",
       "      <th>1</th>\n",
       "      <td>40000</td>\n",
       "      <td>NaN</td>\n",
       "      <td>1</td>\n",
       "      <td>NaN</td>\n",
       "      <td>2</td>\n",
       "      <td>NaN</td>\n",
       "      <td>1</td>\n",
       "      <td>NaN</td>\n",
       "      <td>NaN</td>\n",
       "      <td>1</td>\n",
       "      <td>NaN</td>\n",
       "      <td>2</td>\n",
       "      <td>NaN</td>\n",
       "      <td>Biomass</td>\n",
       "      <td>NaN</td>\n",
       "      <td>NaN</td>\n",
       "    </tr>\n",
       "  </tbody>\n",
       "</table>\n",
       "</div>"
      ],
      "text/plain": [
       "   co2 emission  Unnamed: 1  solar energy  Unnamed: 3  wind speed  Unnamed: 5  \\\n",
       "0         14656         NaN             2         NaN           1         NaN   \n",
       "1         40000         NaN             1         NaN           2         NaN   \n",
       "\n",
       "   hydroelectric potential  Unnamed: 7  Unnamed: 8  geothermal activity   \\\n",
       "0                        0         NaN         NaN                     0   \n",
       "1                        1         NaN         NaN                     1   \n",
       "\n",
       "   Unnamed: 10  biomass availibility  Unnamed: 12 suitable enrgy  \\\n",
       "0          NaN                     1          NaN          Solar   \n",
       "1          NaN                     2          NaN        Biomass   \n",
       "\n",
       "  Suitable Energy suitable energy  \n",
       "0           Solar           Solar  \n",
       "1             NaN             NaN  "
      ]
     },
     "execution_count": 4,
     "metadata": {},
     "output_type": "execute_result"
    }
   ],
   "source": [
    "df.loc[0, 'suitable enrgy'] = 'Solar'\n",
    "\n",
    "# Save the modified dataset\n",
    "df.to_csv('hoho.csv', index=False)  # Replace 'updated_dataset.csv' with your desired file name\n",
    "df.head(2)"
   ]
  },
  {
   "cell_type": "code",
   "execution_count": 5,
   "id": "c99ff9c1",
   "metadata": {},
   "outputs": [],
   "source": [
    "df.drop(['Unnamed: 1','Unnamed: 3','Unnamed: 5','Unnamed: 7','Unnamed: 8','Unnamed: 10','Unnamed: 12','suitable energy','Suitable Energy'],axis=1,inplace=True)"
   ]
  },
  {
   "cell_type": "code",
   "execution_count": 6,
   "id": "3de3bdb1",
   "metadata": {},
   "outputs": [
    {
     "data": {
      "text/html": [
       "<div>\n",
       "<style scoped>\n",
       "    .dataframe tbody tr th:only-of-type {\n",
       "        vertical-align: middle;\n",
       "    }\n",
       "\n",
       "    .dataframe tbody tr th {\n",
       "        vertical-align: top;\n",
       "    }\n",
       "\n",
       "    .dataframe thead th {\n",
       "        text-align: right;\n",
       "    }\n",
       "</style>\n",
       "<table border=\"1\" class=\"dataframe\">\n",
       "  <thead>\n",
       "    <tr style=\"text-align: right;\">\n",
       "      <th></th>\n",
       "      <th>co2 emission</th>\n",
       "      <th>solar energy</th>\n",
       "      <th>wind speed</th>\n",
       "      <th>hydroelectric potential</th>\n",
       "      <th>geothermal activity</th>\n",
       "      <th>biomass availibility</th>\n",
       "      <th>suitable enrgy</th>\n",
       "    </tr>\n",
       "  </thead>\n",
       "  <tbody>\n",
       "    <tr>\n",
       "      <th>0</th>\n",
       "      <td>14656</td>\n",
       "      <td>2</td>\n",
       "      <td>1</td>\n",
       "      <td>0</td>\n",
       "      <td>0</td>\n",
       "      <td>1</td>\n",
       "      <td>Solar</td>\n",
       "    </tr>\n",
       "    <tr>\n",
       "      <th>1</th>\n",
       "      <td>40000</td>\n",
       "      <td>1</td>\n",
       "      <td>2</td>\n",
       "      <td>1</td>\n",
       "      <td>1</td>\n",
       "      <td>2</td>\n",
       "      <td>Biomass</td>\n",
       "    </tr>\n",
       "    <tr>\n",
       "      <th>2</th>\n",
       "      <td>98928</td>\n",
       "      <td>2</td>\n",
       "      <td>0</td>\n",
       "      <td>0</td>\n",
       "      <td>1</td>\n",
       "      <td>0</td>\n",
       "      <td>Solar</td>\n",
       "    </tr>\n",
       "    <tr>\n",
       "      <th>3</th>\n",
       "      <td>190528</td>\n",
       "      <td>0</td>\n",
       "      <td>1</td>\n",
       "      <td>1</td>\n",
       "      <td>0</td>\n",
       "      <td>1</td>\n",
       "      <td>biomass</td>\n",
       "    </tr>\n",
       "    <tr>\n",
       "      <th>4</th>\n",
       "      <td>282128</td>\n",
       "      <td>1</td>\n",
       "      <td>2</td>\n",
       "      <td>2</td>\n",
       "      <td>1</td>\n",
       "      <td>0</td>\n",
       "      <td>Hydroelectri</td>\n",
       "    </tr>\n",
       "    <tr>\n",
       "      <th>5</th>\n",
       "      <td>388384</td>\n",
       "      <td>0</td>\n",
       "      <td>1</td>\n",
       "      <td>1</td>\n",
       "      <td>2</td>\n",
       "      <td>2</td>\n",
       "      <td>Geothermal</td>\n",
       "    </tr>\n",
       "  </tbody>\n",
       "</table>\n",
       "</div>"
      ],
      "text/plain": [
       "   co2 emission  solar energy  wind speed  hydroelectric potential  \\\n",
       "0         14656             2           1                        0   \n",
       "1         40000             1           2                        1   \n",
       "2         98928             2           0                        0   \n",
       "3        190528             0           1                        1   \n",
       "4        282128             1           2                        2   \n",
       "5        388384             0           1                        1   \n",
       "\n",
       "   geothermal activity   biomass availibility suitable enrgy  \n",
       "0                     0                     1          Solar  \n",
       "1                     1                     2        Biomass  \n",
       "2                     1                     0          Solar  \n",
       "3                     0                     1        biomass  \n",
       "4                     1                     0   Hydroelectri  \n",
       "5                     2                     2     Geothermal  "
      ]
     },
     "execution_count": 6,
     "metadata": {},
     "output_type": "execute_result"
    }
   ],
   "source": [
    "df.head(6)"
   ]
  },
  {
   "cell_type": "code",
   "execution_count": 7,
   "id": "109b17f2",
   "metadata": {},
   "outputs": [
    {
     "data": {
      "text/plain": [
       "0           Solar\n",
       "1         Biomass\n",
       "2           Solar\n",
       "3         biomass\n",
       "4    Hydroelectri\n",
       "Name: suitable enrgy, dtype: object"
      ]
     },
     "execution_count": 7,
     "metadata": {},
     "output_type": "execute_result"
    }
   ],
   "source": [
    "target=df['suitable enrgy']\n",
    "target.head(5)"
   ]
  },
  {
   "cell_type": "code",
   "execution_count": 8,
   "id": "02affb53",
   "metadata": {},
   "outputs": [
    {
     "data": {
      "text/html": [
       "<div>\n",
       "<style scoped>\n",
       "    .dataframe tbody tr th:only-of-type {\n",
       "        vertical-align: middle;\n",
       "    }\n",
       "\n",
       "    .dataframe tbody tr th {\n",
       "        vertical-align: top;\n",
       "    }\n",
       "\n",
       "    .dataframe thead th {\n",
       "        text-align: right;\n",
       "    }\n",
       "</style>\n",
       "<table border=\"1\" class=\"dataframe\">\n",
       "  <thead>\n",
       "    <tr style=\"text-align: right;\">\n",
       "      <th></th>\n",
       "      <th>co2 emission</th>\n",
       "      <th>solar energy</th>\n",
       "      <th>wind speed</th>\n",
       "      <th>hydroelectric potential</th>\n",
       "      <th>geothermal activity</th>\n",
       "      <th>biomass availibility</th>\n",
       "    </tr>\n",
       "  </thead>\n",
       "  <tbody>\n",
       "    <tr>\n",
       "      <th>0</th>\n",
       "      <td>14656</td>\n",
       "      <td>2</td>\n",
       "      <td>1</td>\n",
       "      <td>0</td>\n",
       "      <td>0</td>\n",
       "      <td>1</td>\n",
       "    </tr>\n",
       "    <tr>\n",
       "      <th>1</th>\n",
       "      <td>40000</td>\n",
       "      <td>1</td>\n",
       "      <td>2</td>\n",
       "      <td>1</td>\n",
       "      <td>1</td>\n",
       "      <td>2</td>\n",
       "    </tr>\n",
       "    <tr>\n",
       "      <th>2</th>\n",
       "      <td>98928</td>\n",
       "      <td>2</td>\n",
       "      <td>0</td>\n",
       "      <td>0</td>\n",
       "      <td>1</td>\n",
       "      <td>0</td>\n",
       "    </tr>\n",
       "    <tr>\n",
       "      <th>3</th>\n",
       "      <td>190528</td>\n",
       "      <td>0</td>\n",
       "      <td>1</td>\n",
       "      <td>1</td>\n",
       "      <td>0</td>\n",
       "      <td>1</td>\n",
       "    </tr>\n",
       "    <tr>\n",
       "      <th>4</th>\n",
       "      <td>282128</td>\n",
       "      <td>1</td>\n",
       "      <td>2</td>\n",
       "      <td>2</td>\n",
       "      <td>1</td>\n",
       "      <td>0</td>\n",
       "    </tr>\n",
       "  </tbody>\n",
       "</table>\n",
       "</div>"
      ],
      "text/plain": [
       "   co2 emission  solar energy  wind speed  hydroelectric potential  \\\n",
       "0         14656             2           1                        0   \n",
       "1         40000             1           2                        1   \n",
       "2         98928             2           0                        0   \n",
       "3        190528             0           1                        1   \n",
       "4        282128             1           2                        2   \n",
       "\n",
       "   geothermal activity   biomass availibility  \n",
       "0                     0                     1  \n",
       "1                     1                     2  \n",
       "2                     1                     0  \n",
       "3                     0                     1  \n",
       "4                     1                     0  "
      ]
     },
     "execution_count": 8,
     "metadata": {},
     "output_type": "execute_result"
    }
   ],
   "source": [
    "df.drop(['suitable enrgy'],axis=1,inplace=True)\n",
    "df.head(5)"
   ]
  },
  {
   "cell_type": "code",
   "execution_count": 9,
   "id": "d4a4d8fa",
   "metadata": {},
   "outputs": [],
   "source": [
    "model= DecisionTreeClassifier()"
   ]
  },
  {
   "cell_type": "code",
   "execution_count": 10,
   "id": "dd0da31c",
   "metadata": {},
   "outputs": [
    {
     "data": {
      "text/html": [
       "<style>#sk-container-id-1 {color: black;background-color: white;}#sk-container-id-1 pre{padding: 0;}#sk-container-id-1 div.sk-toggleable {background-color: white;}#sk-container-id-1 label.sk-toggleable__label {cursor: pointer;display: block;width: 100%;margin-bottom: 0;padding: 0.3em;box-sizing: border-box;text-align: center;}#sk-container-id-1 label.sk-toggleable__label-arrow:before {content: \"▸\";float: left;margin-right: 0.25em;color: #696969;}#sk-container-id-1 label.sk-toggleable__label-arrow:hover:before {color: black;}#sk-container-id-1 div.sk-estimator:hover label.sk-toggleable__label-arrow:before {color: black;}#sk-container-id-1 div.sk-toggleable__content {max-height: 0;max-width: 0;overflow: hidden;text-align: left;background-color: #f0f8ff;}#sk-container-id-1 div.sk-toggleable__content pre {margin: 0.2em;color: black;border-radius: 0.25em;background-color: #f0f8ff;}#sk-container-id-1 input.sk-toggleable__control:checked~div.sk-toggleable__content {max-height: 200px;max-width: 100%;overflow: auto;}#sk-container-id-1 input.sk-toggleable__control:checked~label.sk-toggleable__label-arrow:before {content: \"▾\";}#sk-container-id-1 div.sk-estimator input.sk-toggleable__control:checked~label.sk-toggleable__label {background-color: #d4ebff;}#sk-container-id-1 div.sk-label input.sk-toggleable__control:checked~label.sk-toggleable__label {background-color: #d4ebff;}#sk-container-id-1 input.sk-hidden--visually {border: 0;clip: rect(1px 1px 1px 1px);clip: rect(1px, 1px, 1px, 1px);height: 1px;margin: -1px;overflow: hidden;padding: 0;position: absolute;width: 1px;}#sk-container-id-1 div.sk-estimator {font-family: monospace;background-color: #f0f8ff;border: 1px dotted black;border-radius: 0.25em;box-sizing: border-box;margin-bottom: 0.5em;}#sk-container-id-1 div.sk-estimator:hover {background-color: #d4ebff;}#sk-container-id-1 div.sk-parallel-item::after {content: \"\";width: 100%;border-bottom: 1px solid gray;flex-grow: 1;}#sk-container-id-1 div.sk-label:hover label.sk-toggleable__label {background-color: #d4ebff;}#sk-container-id-1 div.sk-serial::before {content: \"\";position: absolute;border-left: 1px solid gray;box-sizing: border-box;top: 0;bottom: 0;left: 50%;z-index: 0;}#sk-container-id-1 div.sk-serial {display: flex;flex-direction: column;align-items: center;background-color: white;padding-right: 0.2em;padding-left: 0.2em;position: relative;}#sk-container-id-1 div.sk-item {position: relative;z-index: 1;}#sk-container-id-1 div.sk-parallel {display: flex;align-items: stretch;justify-content: center;background-color: white;position: relative;}#sk-container-id-1 div.sk-item::before, #sk-container-id-1 div.sk-parallel-item::before {content: \"\";position: absolute;border-left: 1px solid gray;box-sizing: border-box;top: 0;bottom: 0;left: 50%;z-index: -1;}#sk-container-id-1 div.sk-parallel-item {display: flex;flex-direction: column;z-index: 1;position: relative;background-color: white;}#sk-container-id-1 div.sk-parallel-item:first-child::after {align-self: flex-end;width: 50%;}#sk-container-id-1 div.sk-parallel-item:last-child::after {align-self: flex-start;width: 50%;}#sk-container-id-1 div.sk-parallel-item:only-child::after {width: 0;}#sk-container-id-1 div.sk-dashed-wrapped {border: 1px dashed gray;margin: 0 0.4em 0.5em 0.4em;box-sizing: border-box;padding-bottom: 0.4em;background-color: white;}#sk-container-id-1 div.sk-label label {font-family: monospace;font-weight: bold;display: inline-block;line-height: 1.2em;}#sk-container-id-1 div.sk-label-container {text-align: center;}#sk-container-id-1 div.sk-container {/* jupyter's `normalize.less` sets `[hidden] { display: none; }` but bootstrap.min.css set `[hidden] { display: none !important; }` so we also need the `!important` here to be able to override the default hidden behavior on the sphinx rendered scikit-learn.org. See: https://github.com/scikit-learn/scikit-learn/issues/21755 */display: inline-block !important;position: relative;}#sk-container-id-1 div.sk-text-repr-fallback {display: none;}</style><div id=\"sk-container-id-1\" class=\"sk-top-container\"><div class=\"sk-text-repr-fallback\"><pre>DecisionTreeClassifier()</pre><b>In a Jupyter environment, please rerun this cell to show the HTML representation or trust the notebook. <br />On GitHub, the HTML representation is unable to render, please try loading this page with nbviewer.org.</b></div><div class=\"sk-container\" hidden><div class=\"sk-item\"><div class=\"sk-estimator sk-toggleable\"><input class=\"sk-toggleable__control sk-hidden--visually\" id=\"sk-estimator-id-1\" type=\"checkbox\" checked><label for=\"sk-estimator-id-1\" class=\"sk-toggleable__label sk-toggleable__label-arrow\">DecisionTreeClassifier</label><div class=\"sk-toggleable__content\"><pre>DecisionTreeClassifier()</pre></div></div></div></div></div>"
      ],
      "text/plain": [
       "DecisionTreeClassifier()"
      ]
     },
     "execution_count": 10,
     "metadata": {},
     "output_type": "execute_result"
    }
   ],
   "source": [
    "model.fit(df,target)"
   ]
  },
  {
   "cell_type": "code",
   "execution_count": 17,
   "id": "ce3e694e",
   "metadata": {},
   "outputs": [
    {
     "data": {
      "text/plain": [
       "1.0"
      ]
     },
     "execution_count": 17,
     "metadata": {},
     "output_type": "execute_result"
    }
   ],
   "source": [
    "model.score(df,target)"
   ]
  },
  {
   "cell_type": "code",
   "execution_count": 11,
   "id": "4ca1995b",
   "metadata": {},
   "outputs": [
    {
     "name": "stderr",
     "output_type": "stream",
     "text": [
      "/Users/tahirabbas/anaconda3/lib/python3.11/site-packages/sklearn/base.py:439: UserWarning: X does not have valid feature names, but DecisionTreeClassifier was fitted with feature names\n",
      "  warnings.warn(\n"
     ]
    },
    {
     "data": {
      "text/plain": [
       "array(['Solar'], dtype=object)"
      ]
     },
     "execution_count": 11,
     "metadata": {},
     "output_type": "execute_result"
    }
   ],
   "source": [
    "model.predict([[14656,2,1,0,0,1]])"
   ]
  },
  {
   "cell_type": "code",
   "execution_count": 12,
   "id": "c6f9ad74",
   "metadata": {},
   "outputs": [
    {
     "name": "stdout",
     "output_type": "stream",
     "text": [
      "Enter CO2 emission: 14656\n",
      "Enter Solar Energy (0 for low, 1 for moderate, 2 for high): 2\n",
      "Enter Wind Speed (0 for low, 1 for moderate, 2 for high): 1\n",
      "Enter Hydroelectric Potential (0 for low, 1 for moderate, 2 for high): 0\n",
      "Enter Geothermal Activity (0 for low, 1 for moderate, 2 for high): 0\n",
      "Enter Biomass Availability (0 for low, 1 for moderate, 2 for high): 1\n",
      "The predicted suitable energy is: ['Solar']\n"
     ]
    }
   ],
   "source": [
    "co2_emission = float(input(\"Enter CO2 emission: \"))\n",
    "solar_energy = int(input(\"Enter Solar Energy (0 for low, 1 for moderate, 2 for high): \"))\n",
    "wind_speed = int(input(\"Enter Wind Speed (0 for low, 1 for moderate, 2 for high): \"))\n",
    "hydroelectric_potential = int(input(\"Enter Hydroelectric Potential (0 for low, 1 for moderate, 2 for high): \"))\n",
    "geothermal_activity = int(input(\"Enter Geothermal Activity (0 for low, 1 for moderate, 2 for high): \"))\n",
    "biomass_availability = int(input(\"Enter Biomass Availability (0 for low, 1 for moderate, 2 for high): \"))\n",
    "\n",
    "user_input = pd.DataFrame({\n",
    "    'co2 emission': [co2_emission],\n",
    "    'solar energy': [solar_energy],\n",
    "    'wind speed': [wind_speed],\n",
    "    'hydroelectric potential': [hydroelectric_potential],\n",
    "    'geothermal activity ': [geothermal_activity],  \n",
    "    'biomass availibility': [biomass_availability]\n",
    "})\n",
    "\n",
    "prediction = model.predict(user_input)\n",
    "print(f\"The predicted suitable energy is: {prediction}\")"
   ]
  },
  {
   "cell_type": "code",
   "execution_count": 14,
   "id": "e68aecf7",
   "metadata": {},
   "outputs": [
    {
     "name": "stdout",
     "output_type": "stream",
     "text": [
      "Enter CO2 emission: 388384\n",
      "Enter Solar Energy (0 for low, 1 for moderate, 2 for high): 0\n",
      "Enter Wind Speed (0 for low, 1 for moderate, 2 for high): 1\n",
      "Enter Hydroelectric Potential (0 for low, 1 for moderate, 2 for high): 1\n",
      "Enter Geothermal Activity (0 for low, 1 for moderate, 2 for high): 2\n",
      "Enter Biomass Availability (0 for low, 1 for moderate, 2 for high): 2\n",
      "The predicted suitable energy is: ['Geothermal']\n"
     ]
    }
   ],
   "source": [
    "co2_emission = float(input(\"Enter CO2 emission: \"))\n",
    "solar_energy = int(input(\"Enter Solar Energy (0 for low, 1 for moderate, 2 for high): \"))\n",
    "wind_speed = int(input(\"Enter Wind Speed (0 for low, 1 for moderate, 2 for high): \"))\n",
    "hydroelectric_potential = int(input(\"Enter Hydroelectric Potential (0 for low, 1 for moderate, 2 for high): \"))\n",
    "geothermal_activity = int(input(\"Enter Geothermal Activity (0 for low, 1 for moderate, 2 for high): \"))\n",
    "biomass_availability = int(input(\"Enter Biomass Availability (0 for low, 1 for moderate, 2 for high): \"))\n",
    "\n",
    "user_input = pd.DataFrame({\n",
    "    'co2 emission': [co2_emission],\n",
    "    'solar energy': [solar_energy],\n",
    "    'wind speed': [wind_speed],\n",
    "    'hydroelectric potential': [hydroelectric_potential],\n",
    "    'geothermal activity ': [geothermal_activity], \n",
    "    'biomass availibility': [biomass_availability]\n",
    "})\n",
    "\n",
    "prediction = model.predict(user_input)\n",
    "print(f\"The predicted suitable energy is: {prediction}\")"
   ]
  },
  {
   "cell_type": "code",
   "execution_count": 16,
   "id": "f077218f",
   "metadata": {},
   "outputs": [
    {
     "name": "stdout",
     "output_type": "stream",
     "text": [
      "Enter CO2 emission: 190528\n",
      "Enter Solar Energy (0 for low, 1 for moderate, 2 for high): 0\n",
      "Enter Wind Speed (0 for low, 1 for moderate, 2 for high): 1\n",
      "Enter Hydroelectric Potential (0 for low, 1 for moderate, 2 for high): 1\n",
      "Enter Geothermal Activity (0 for low, 1 for moderate, 2 for high): 0\n",
      "Enter Biomass Availability (0 for low, 1 for moderate, 2 for high): 1\n",
      "The predicted suitable energy is: ['biomass']\n"
     ]
    }
   ],
   "source": [
    "co2_emission = float(input(\"Enter CO2 emission: \"))\n",
    "solar_energy = int(input(\"Enter Solar Energy (0 for low, 1 for moderate, 2 for high): \"))\n",
    "wind_speed = int(input(\"Enter Wind Speed (0 for low, 1 for moderate, 2 for high): \"))\n",
    "hydroelectric_potential = int(input(\"Enter Hydroelectric Potential (0 for low, 1 for moderate, 2 for high): \"))\n",
    "geothermal_activity = int(input(\"Enter Geothermal Activity (0 for low, 1 for moderate, 2 for high): \"))\n",
    "biomass_availability = int(input(\"Enter Biomass Availability (0 for low, 1 for moderate, 2 for high): \"))\n",
    "\n",
    "user_input = pd.DataFrame({\n",
    "    'co2 emission': [co2_emission],\n",
    "    'solar energy': [solar_energy],\n",
    "    'wind speed': [wind_speed],\n",
    "    'hydroelectric potential': [hydroelectric_potential],\n",
    "    'geothermal activity ': [geothermal_activity], \n",
    "    'biomass availibility': [biomass_availability]\n",
    "})\n",
    "\n",
    "prediction = model.predict(user_input)\n",
    "print(f\"The predicted suitable energy is: {prediction}\")"
   ]
  },
  {
   "cell_type": "code",
   "execution_count": null,
   "id": "6906ba4b",
   "metadata": {},
   "outputs": [],
   "source": []
  }
 ],
 "metadata": {
  "kernelspec": {
   "display_name": "Python 3 (ipykernel)",
   "language": "python",
   "name": "python3"
  },
  "language_info": {
   "codemirror_mode": {
    "name": "ipython",
    "version": 3
   },
   "file_extension": ".py",
   "mimetype": "text/x-python",
   "name": "python",
   "nbconvert_exporter": "python",
   "pygments_lexer": "ipython3",
   "version": "3.11.3"
  }
 },
 "nbformat": 4,
 "nbformat_minor": 5
}
